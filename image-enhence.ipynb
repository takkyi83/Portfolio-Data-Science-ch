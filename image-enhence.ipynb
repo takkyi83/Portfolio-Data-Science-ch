{
 "cells": [
  {
   "cell_type": "code",
   "execution_count": 5,
   "metadata": {},
   "outputs": [],
   "source": [
    "from PIL import Image\n",
    "\n",
    "def double_pixel_density(image_path):\n",
    "    # Open the image file\n",
    "    image = Image.open('header2.1.jpg')\n",
    "\n",
    "    # Get the original width and height\n",
    "    original_width, original_height = image.size\n",
    "\n",
    "    # Calculate the new width and height (same as original)\n",
    "    new_width = original_width\n",
    "    new_height = original_height\n",
    "\n",
    "    # Create a new image with doubled pixel density\n",
    "    doubled_image = Image.new('RGB', (new_width * 2, new_height * 2))\n",
    "\n",
    "    # Iterate through the pixels of the original image\n",
    "    for x in range(original_width):\n",
    "        for y in range(original_height):\n",
    "            # Get the RGB color value of the current pixel\n",
    "            pixel_color = image.getpixel((x, y))\n",
    "\n",
    "            # Set the corresponding pixels in the doubled image\n",
    "            doubled_image.putpixel((x * 2, y * 2), pixel_color)\n",
    "            doubled_image.putpixel((x * 2 + 1, y * 2), pixel_color)\n",
    "            doubled_image.putpixel((x * 2, y * 2 + 1), pixel_color)\n",
    "            doubled_image.putpixel((x * 2 + 1, y * 2 + 1), pixel_color)\n",
    "\n",
    "    # Return the doubled pixel density image\n",
    "    return doubled_image\n",
    "\n",
    "# Specify the path to the input image\n",
    "input_image_path = 'header2.1.jpg'\n",
    "\n",
    "# Double the pixel density of the image\n",
    "doubled_image = double_pixel_density(input_image_path)\n",
    "\n",
    "# Save the doubled pixel density image\n",
    "doubled_image.save('output.jpg')\n"
   ]
  },
  {
   "cell_type": "code",
   "execution_count": null,
   "metadata": {},
   "outputs": [],
   "source": []
  }
 ],
 "metadata": {
  "kernelspec": {
   "display_name": "Python 3",
   "language": "python",
   "name": "python3"
  },
  "language_info": {
   "codemirror_mode": {
    "name": "ipython",
    "version": 3
   },
   "file_extension": ".py",
   "mimetype": "text/x-python",
   "name": "python",
   "nbconvert_exporter": "python",
   "pygments_lexer": "ipython3",
   "version": "3.8.3"
  }
 },
 "nbformat": 4,
 "nbformat_minor": 5
}
