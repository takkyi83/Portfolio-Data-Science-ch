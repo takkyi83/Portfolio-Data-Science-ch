{
 "cells": [
  {
   "cell_type": "markdown",
   "metadata": {},
   "source": [
    "# 以深度學習預測數位廣告點擊率（Click-Through-Rate, CTR)"
   ]
  },
  {
   "cell_type": "markdown",
   "metadata": {},
   "source": [
    "<img src=\"https://media.discordapp.net/attachments/1111830487376334848/1130792312298016799/sher3357_digital_world_digital_information_digital_advertising__a475f711-5f1d-4c27-9627-6eea7d31ea7d.png?width=1209&height=137\">"
   ]
  },
  {
   "cell_type": "markdown",
   "metadata": {},
   "source": [
    "## 研究背景和動機\n",
    "點擊率預測在任何推薦系統和數位廣告中都扮演著關鍵的角色。預測點擊率能夠幫助廣告主優化資金的配置，從而提高投資報酬。\n",
    "\n",
    "## 研究目標\n",
    "  <li>分析不同投放未知等因素對廣告點擊率的影響</li>\n",
    "  <li>建立點擊率預測模型</li>\n",
    "  \n",
    "## 研究方法\n",
    "  一般的機器學習方法在學習用戶行為背後的複雜特徵交互方面存在限制，對低階或高階交互(low order or high order intersection) 存在偏差，並且需要複雜的特徵工程來處理。相反地，DeepFM提出了一種結合了因子分解機（factorization machines）和深度神經網絡優勢的新型神經網絡架構。<br>\n",
    "\n",
    "## 資料\n",
    "資料使用Kaggle的Click-Through Rate Prediction資料集\n",
    "\n",
    "## 數據特徵解釋\n",
    "本次使用的數據集一共包含24個特徵，各特徵所代表的含義如下：<br>\n",
    "<li>id : personal_id</li>\n",
    "<li>click : target</li>\n",
    "<li>hour : format is YYMMDDHH, so 14091123 means 23:00 on Sept. 11, 2014 UTC.</li>\n",
    "<li>C1 : anonymized categorical variable</li>\n",
    "<li>banner_pos : showing banner</li>\n",
    "<li>site domain</li>\n",
    "<li>site_category</li>\n",
    "<li>app_id</li>\n",
    "<li>add_category</li>\n",
    "<li>device_id</li>\n",
    "<li>device_ip</li>\n",
    "<li>device_model</li>\n",
    "<li>device_type</li>\n",
    "<li>device_conn_type</li>\n",
    "<li>C14 ~ C21 : anonymized categorical variables</li>\n",
    "  \n"
   ]
  },
  {
   "cell_type": "markdown",
   "metadata": {},
   "source": [
    "## 關於DeepFM\n",
    "DeepFM（Deep Factorization Machine）是一種結合了因子分解機（Factorization Machine）和深度神經網絡（Deep Neural Network）的混合模型，用於處理推薦系統和廣告預測等機器學習任務。\n",
    "\n",
    "DeepFM 模型的核心思想是同時利用因子分解機和深度神經網絡進行特徵表徵和特徵交互的學習，從而更好地捕捉特徵之間的非線性關係。該模型結合了兩種不同的組件：\n",
    "\n",
    "<ul>\n",
    "1.因子分解機（Factorization Machine）：因子分解機是一種廣義線性模型的擴展，通過對特徵進行二階交互（即考慮兩個特徵之間的交互作用）來建模特徵之間的相互關係。因子分解機可以有效地處理稀疏特徵和高維特徵，並能夠學習特徵的隱含因子表示。\n",
    "</ul>\n",
    "<ul>\n",
    "2. 深度神經網絡（Deep Neural Network）：深度神經網絡是一種多層次的神經網絡模型，通過多個隱藏層和非線性激活函數來進行特徵表徵和特徵交互的學習。深度神經網絡可以捕捉更複雜的特徵關係，並具有強大的建模能力。\n",
    "</ul>\n",
    "在 DeepFM 模型中，因子分解機部分用於學習特徵的低階交互，而深度神經網絡部分用於學習特徵的高階交互。通過將兩部分的輸出相加，最終得到模型的預測結果。\n",
    "\n",
    "### DeepFM 模型具有以下特點和優勢：\n",
    "<li>能夠捕捉特徵交互的非線性關係：因子分解機和深度神經網絡的結合，使得模型能夠同時進行低階和高階特徵交互的學習，從而更好地捕捉特徵之間的非線性關係。</li>\n",
    "\n",
    "<li>適用於稀疏和高維特徵：DeepFM 模型能夠有效地處理稀疏特徵和高維特徵，這在推薦系統和廣告預測等場景中非常常見。</li>\n",
    "\n",
    "<li>模型訓練效果較好：深度神經網絡的加入使得 DeepFM 模型具有較強的表達能力和建模能力，能夠在大型數據集上獲得良好的訓練效果。</li>\n",
    "\n",
    "結來說，DeepFM 是一種結合了因子分解機和深度神經網絡的混合模型，用於處理推薦系統和廣告預測等機器學習任務。它的設計使得模型能夠同時捕捉特徵的低階和高階交互，並具有適應稀疏和高維特徵的能力，進而提升預測性能。\n",
    "  \n",
    "### DeepFM結構\n",
    "<img src=\"https://www.researchgate.net/profile/Denis-Parra/publication/333072035/figure/fig8/AS:800143024603149@1567780371635/Example-of-the-DeepFM-Architecture-Image-adapted-from-3.ppm\" width=800 height=6000>"
   ]
  },
  {
   "cell_type": "code",
   "execution_count": 1,
   "metadata": {
    "execution": {
     "iopub.execute_input": "2023-07-18T07:19:48.236256Z",
     "iopub.status.busy": "2023-07-18T07:19:48.235792Z",
     "iopub.status.idle": "2023-07-18T07:19:48.837735Z",
     "shell.execute_reply": "2023-07-18T07:19:48.836845Z",
     "shell.execute_reply.started": "2023-07-18T07:19:48.236167Z"
    }
   },
   "outputs": [],
   "source": [
    "import os\n",
    "import numpy as np\n",
    "import pandas as pd\n",
    "import seaborn as sns\n",
    "import matplotlib.pyplot as plt\n",
    "import random\n",
    "import gc\n",
    "\n",
    "plt.style.use('ggplot')\n",
    "\n",
    "import warnings as w\n",
    "w.filterwarnings(action='ignore')\n",
    "pd.set_option('display.max_columns',None)"
   ]
  },
  {
   "cell_type": "markdown",
   "metadata": {},
   "source": [
    "### 轉化資料到正確的類型\n",
    "### 訓練資料集相當龐大，對資料做Sample"
   ]
  },
  {
   "cell_type": "code",
   "execution_count": 2,
   "metadata": {
    "execution": {
     "iopub.execute_input": "2023-07-18T07:19:48.840304Z",
     "iopub.status.busy": "2023-07-18T07:19:48.839725Z",
     "iopub.status.idle": "2023-07-18T07:21:09.352245Z",
     "shell.execute_reply": "2023-07-18T07:21:09.351343Z",
     "shell.execute_reply.started": "2023-07-18T07:19:48.840266Z"
    }
   },
   "outputs": [],
   "source": [
    "dtype={'id': np.dtype(int),\n",
    "    'click': np.dtype(int),\n",
    "    'hour': np.str,\n",
    "    'C1': np.dtype(str),\n",
    "    'banner_pos': np.dtype(str),\n",
    "    'site_id': np.dtype(str),\n",
    "    'site_domain': np.dtype(str), \n",
    "    'site_category': np.dtype(str),\n",
    "    'app_id': np.dtype(str),\n",
    "    'app_domain': np.dtype(str),\n",
    "    'app_category': np.dtype(str),\n",
    "    'device_id': np.dtype(str),\n",
    "    'device_ip': np.dtype(str),\n",
    "    'device_model': np.dtype(str),\n",
    "    'device_type': np.dtype(str),\n",
    "    'device_conn_type': np.dtype(str),\n",
    "    'C14': np.dtype(str),\n",
    "    'C15': np.dtype(str),\n",
    "    'C16': np.dtype(str),\n",
    "    'C17': np.dtype(str),\n",
    "    'C18': np.dtype(str),\n",
    "    'C19': np.dtype(str),\n",
    "    'C20': np.dtype(str),\n",
    "    'C21':np.dtype(str)\n",
    "      }\n",
    "num_records = 40428967\n",
    "sample_size = 5000000\n",
    "skip_values = sorted(random.sample(range(1,num_records), num_records - sample_size))\n",
    "parse_date = lambda val : pd.datetime.strptime(val, '%y%m%d%H')"
   ]
  },
  {
   "cell_type": "markdown",
   "metadata": {},
   "source": []
  },
  {
   "cell_type": "code",
   "execution_count": 3,
   "metadata": {
    "execution": {
     "iopub.execute_input": "2023-07-18T07:21:09.354003Z",
     "iopub.status.busy": "2023-07-18T07:21:09.353527Z",
     "iopub.status.idle": "2023-07-18T07:25:07.159869Z",
     "shell.execute_reply": "2023-07-18T07:25:07.158948Z",
     "shell.execute_reply.started": "2023-07-18T07:21:09.353964Z"
    }
   },
   "outputs": [
    {
     "name": "stdout",
     "output_type": "stream",
     "text": [
      "Train dataset: (5000000, 24)\n",
      "Test dataset: (4577464, 23)\n",
      "Submission: (4577464, 2)\n"
     ]
    }
   ],
   "source": [
    "train = pd.read_csv(\"../input/avazu-ctr-prediction/train.gz\", parse_dates=['hour'], date_parser=parse_date, dtype=dtype, skiprows=skip_values)\n",
    "test = pd.read_csv('../input/avazu-ctr-prediction/test.gz')\n",
    "submission = pd.read_csv('../input/avazu-ctr-prediction/sampleSubmission.gz')\n",
    "print('Train dataset:',train.shape)\n",
    "print('Test dataset:',test.shape)\n",
    "print('Submission:',submission.shape)"
   ]
  },
  {
   "cell_type": "markdown",
   "metadata": {},
   "source": []
  },
  {
   "cell_type": "markdown",
   "metadata": {},
   "source": [
    "### 檢視訓練和測試集的前5行"
   ]
  },
  {
   "cell_type": "code",
   "execution_count": 4,
   "metadata": {
    "execution": {
     "iopub.execute_input": "2023-07-18T07:25:07.161941Z",
     "iopub.status.busy": "2023-07-18T07:25:07.161312Z",
     "iopub.status.idle": "2023-07-18T07:25:07.193126Z",
     "shell.execute_reply": "2023-07-18T07:25:07.192229Z",
     "shell.execute_reply.started": "2023-07-18T07:25:07.161898Z"
    }
   },
   "outputs": [
    {
     "data": {
      "text/html": [
       "<div>\n",
       "<style scoped>\n",
       "    .dataframe tbody tr th:only-of-type {\n",
       "        vertical-align: middle;\n",
       "    }\n",
       "\n",
       "    .dataframe tbody tr th {\n",
       "        vertical-align: top;\n",
       "    }\n",
       "\n",
       "    .dataframe thead th {\n",
       "        text-align: right;\n",
       "    }\n",
       "</style>\n",
       "<table border=\"1\" class=\"dataframe\">\n",
       "  <thead>\n",
       "    <tr style=\"text-align: right;\">\n",
       "      <th></th>\n",
       "      <th>id</th>\n",
       "      <th>click</th>\n",
       "      <th>hour</th>\n",
       "      <th>C1</th>\n",
       "      <th>banner_pos</th>\n",
       "      <th>site_id</th>\n",
       "      <th>site_domain</th>\n",
       "      <th>site_category</th>\n",
       "      <th>app_id</th>\n",
       "      <th>app_domain</th>\n",
       "      <th>app_category</th>\n",
       "      <th>device_id</th>\n",
       "      <th>device_ip</th>\n",
       "      <th>device_model</th>\n",
       "      <th>device_type</th>\n",
       "      <th>device_conn_type</th>\n",
       "      <th>C14</th>\n",
       "      <th>C15</th>\n",
       "      <th>C16</th>\n",
       "      <th>C17</th>\n",
       "      <th>C18</th>\n",
       "      <th>C19</th>\n",
       "      <th>C20</th>\n",
       "      <th>C21</th>\n",
       "    </tr>\n",
       "  </thead>\n",
       "  <tbody>\n",
       "    <tr>\n",
       "      <th>0</th>\n",
       "      <td>10000371904215119486</td>\n",
       "      <td>0</td>\n",
       "      <td>2014-10-21</td>\n",
       "      <td>1005</td>\n",
       "      <td>0</td>\n",
       "      <td>1fbe01fe</td>\n",
       "      <td>f3845767</td>\n",
       "      <td>28905ebd</td>\n",
       "      <td>ecad2386</td>\n",
       "      <td>7801e8d9</td>\n",
       "      <td>07d7df22</td>\n",
       "      <td>a99f214a</td>\n",
       "      <td>b3cf8def</td>\n",
       "      <td>8a4875bd</td>\n",
       "      <td>1</td>\n",
       "      <td>0</td>\n",
       "      <td>15704</td>\n",
       "      <td>320</td>\n",
       "      <td>50</td>\n",
       "      <td>1722</td>\n",
       "      <td>0</td>\n",
       "      <td>35</td>\n",
       "      <td>100084</td>\n",
       "      <td>79</td>\n",
       "    </tr>\n",
       "    <tr>\n",
       "      <th>1</th>\n",
       "      <td>10000720757801103869</td>\n",
       "      <td>0</td>\n",
       "      <td>2014-10-21</td>\n",
       "      <td>1005</td>\n",
       "      <td>0</td>\n",
       "      <td>d6137915</td>\n",
       "      <td>bb1ef334</td>\n",
       "      <td>f028772b</td>\n",
       "      <td>ecad2386</td>\n",
       "      <td>7801e8d9</td>\n",
       "      <td>07d7df22</td>\n",
       "      <td>a99f214a</td>\n",
       "      <td>05241af0</td>\n",
       "      <td>8a4875bd</td>\n",
       "      <td>1</td>\n",
       "      <td>0</td>\n",
       "      <td>16920</td>\n",
       "      <td>320</td>\n",
       "      <td>50</td>\n",
       "      <td>1899</td>\n",
       "      <td>0</td>\n",
       "      <td>431</td>\n",
       "      <td>100077</td>\n",
       "      <td>117</td>\n",
       "    </tr>\n",
       "    <tr>\n",
       "      <th>2</th>\n",
       "      <td>10001264480619467364</td>\n",
       "      <td>0</td>\n",
       "      <td>2014-10-21</td>\n",
       "      <td>1002</td>\n",
       "      <td>0</td>\n",
       "      <td>84c7ba46</td>\n",
       "      <td>c4e18dd6</td>\n",
       "      <td>50e219e0</td>\n",
       "      <td>ecad2386</td>\n",
       "      <td>7801e8d9</td>\n",
       "      <td>07d7df22</td>\n",
       "      <td>c357dbff</td>\n",
       "      <td>f1ac7184</td>\n",
       "      <td>373ecbe6</td>\n",
       "      <td>0</td>\n",
       "      <td>0</td>\n",
       "      <td>21689</td>\n",
       "      <td>320</td>\n",
       "      <td>50</td>\n",
       "      <td>2496</td>\n",
       "      <td>3</td>\n",
       "      <td>167</td>\n",
       "      <td>100191</td>\n",
       "      <td>23</td>\n",
       "    </tr>\n",
       "    <tr>\n",
       "      <th>3</th>\n",
       "      <td>10003539039235338011</td>\n",
       "      <td>0</td>\n",
       "      <td>2014-10-21</td>\n",
       "      <td>1005</td>\n",
       "      <td>0</td>\n",
       "      <td>1fbe01fe</td>\n",
       "      <td>f3845767</td>\n",
       "      <td>28905ebd</td>\n",
       "      <td>ecad2386</td>\n",
       "      <td>7801e8d9</td>\n",
       "      <td>07d7df22</td>\n",
       "      <td>a99f214a</td>\n",
       "      <td>a4f47b2e</td>\n",
       "      <td>8a4875bd</td>\n",
       "      <td>1</td>\n",
       "      <td>0</td>\n",
       "      <td>15699</td>\n",
       "      <td>320</td>\n",
       "      <td>50</td>\n",
       "      <td>1722</td>\n",
       "      <td>0</td>\n",
       "      <td>35</td>\n",
       "      <td>100084</td>\n",
       "      <td>79</td>\n",
       "    </tr>\n",
       "    <tr>\n",
       "      <th>4</th>\n",
       "      <td>10004181428767727519</td>\n",
       "      <td>0</td>\n",
       "      <td>2014-10-21</td>\n",
       "      <td>1005</td>\n",
       "      <td>1</td>\n",
       "      <td>0c2fe9d6</td>\n",
       "      <td>27e3c518</td>\n",
       "      <td>28905ebd</td>\n",
       "      <td>ecad2386</td>\n",
       "      <td>7801e8d9</td>\n",
       "      <td>07d7df22</td>\n",
       "      <td>a99f214a</td>\n",
       "      <td>b7a69808</td>\n",
       "      <td>158e4944</td>\n",
       "      <td>1</td>\n",
       "      <td>0</td>\n",
       "      <td>6558</td>\n",
       "      <td>320</td>\n",
       "      <td>50</td>\n",
       "      <td>571</td>\n",
       "      <td>2</td>\n",
       "      <td>39</td>\n",
       "      <td>-1</td>\n",
       "      <td>32</td>\n",
       "    </tr>\n",
       "  </tbody>\n",
       "</table>\n",
       "</div>"
      ],
      "text/plain": [
       "                     id  click       hour    C1 banner_pos   site_id  \\\n",
       "0  10000371904215119486      0 2014-10-21  1005          0  1fbe01fe   \n",
       "1  10000720757801103869      0 2014-10-21  1005          0  d6137915   \n",
       "2  10001264480619467364      0 2014-10-21  1002          0  84c7ba46   \n",
       "3  10003539039235338011      0 2014-10-21  1005          0  1fbe01fe   \n",
       "4  10004181428767727519      0 2014-10-21  1005          1  0c2fe9d6   \n",
       "\n",
       "  site_domain site_category    app_id app_domain app_category device_id  \\\n",
       "0    f3845767      28905ebd  ecad2386   7801e8d9     07d7df22  a99f214a   \n",
       "1    bb1ef334      f028772b  ecad2386   7801e8d9     07d7df22  a99f214a   \n",
       "2    c4e18dd6      50e219e0  ecad2386   7801e8d9     07d7df22  c357dbff   \n",
       "3    f3845767      28905ebd  ecad2386   7801e8d9     07d7df22  a99f214a   \n",
       "4    27e3c518      28905ebd  ecad2386   7801e8d9     07d7df22  a99f214a   \n",
       "\n",
       "  device_ip device_model device_type device_conn_type    C14  C15 C16   C17  \\\n",
       "0  b3cf8def     8a4875bd           1                0  15704  320  50  1722   \n",
       "1  05241af0     8a4875bd           1                0  16920  320  50  1899   \n",
       "2  f1ac7184     373ecbe6           0                0  21689  320  50  2496   \n",
       "3  a4f47b2e     8a4875bd           1                0  15699  320  50  1722   \n",
       "4  b7a69808     158e4944           1                0   6558  320  50   571   \n",
       "\n",
       "  C18  C19     C20  C21  \n",
       "0   0   35  100084   79  \n",
       "1   0  431  100077  117  \n",
       "2   3  167  100191   23  \n",
       "3   0   35  100084   79  \n",
       "4   2   39      -1   32  "
      ]
     },
     "execution_count": 4,
     "metadata": {},
     "output_type": "execute_result"
    }
   ],
   "source": [
    "train.head()"
   ]
  },
  {
   "cell_type": "code",
   "execution_count": 5,
   "metadata": {
    "execution": {
     "iopub.execute_input": "2023-07-18T07:25:07.195847Z",
     "iopub.status.busy": "2023-07-18T07:25:07.195415Z",
     "iopub.status.idle": "2023-07-18T07:25:07.216801Z",
     "shell.execute_reply": "2023-07-18T07:25:07.215825Z",
     "shell.execute_reply.started": "2023-07-18T07:25:07.195810Z"
    }
   },
   "outputs": [
    {
     "data": {
      "text/html": [
       "<div>\n",
       "<style scoped>\n",
       "    .dataframe tbody tr th:only-of-type {\n",
       "        vertical-align: middle;\n",
       "    }\n",
       "\n",
       "    .dataframe tbody tr th {\n",
       "        vertical-align: top;\n",
       "    }\n",
       "\n",
       "    .dataframe thead th {\n",
       "        text-align: right;\n",
       "    }\n",
       "</style>\n",
       "<table border=\"1\" class=\"dataframe\">\n",
       "  <thead>\n",
       "    <tr style=\"text-align: right;\">\n",
       "      <th></th>\n",
       "      <th>id</th>\n",
       "      <th>hour</th>\n",
       "      <th>C1</th>\n",
       "      <th>banner_pos</th>\n",
       "      <th>site_id</th>\n",
       "      <th>site_domain</th>\n",
       "      <th>site_category</th>\n",
       "      <th>app_id</th>\n",
       "      <th>app_domain</th>\n",
       "      <th>app_category</th>\n",
       "      <th>device_id</th>\n",
       "      <th>device_ip</th>\n",
       "      <th>device_model</th>\n",
       "      <th>device_type</th>\n",
       "      <th>device_conn_type</th>\n",
       "      <th>C14</th>\n",
       "      <th>C15</th>\n",
       "      <th>C16</th>\n",
       "      <th>C17</th>\n",
       "      <th>C18</th>\n",
       "      <th>C19</th>\n",
       "      <th>C20</th>\n",
       "      <th>C21</th>\n",
       "    </tr>\n",
       "  </thead>\n",
       "  <tbody>\n",
       "    <tr>\n",
       "      <th>0</th>\n",
       "      <td>1.000017e+19</td>\n",
       "      <td>14103100</td>\n",
       "      <td>1005</td>\n",
       "      <td>0</td>\n",
       "      <td>235ba823</td>\n",
       "      <td>f6ebf28e</td>\n",
       "      <td>f028772b</td>\n",
       "      <td>ecad2386</td>\n",
       "      <td>7801e8d9</td>\n",
       "      <td>07d7df22</td>\n",
       "      <td>a99f214a</td>\n",
       "      <td>69f45779</td>\n",
       "      <td>0eb711ec</td>\n",
       "      <td>1</td>\n",
       "      <td>0</td>\n",
       "      <td>8330</td>\n",
       "      <td>320</td>\n",
       "      <td>50</td>\n",
       "      <td>761</td>\n",
       "      <td>3</td>\n",
       "      <td>175</td>\n",
       "      <td>100075</td>\n",
       "      <td>23</td>\n",
       "    </tr>\n",
       "    <tr>\n",
       "      <th>1</th>\n",
       "      <td>1.000018e+19</td>\n",
       "      <td>14103100</td>\n",
       "      <td>1005</td>\n",
       "      <td>0</td>\n",
       "      <td>1fbe01fe</td>\n",
       "      <td>f3845767</td>\n",
       "      <td>28905ebd</td>\n",
       "      <td>ecad2386</td>\n",
       "      <td>7801e8d9</td>\n",
       "      <td>07d7df22</td>\n",
       "      <td>a99f214a</td>\n",
       "      <td>e8d44657</td>\n",
       "      <td>ecb851b2</td>\n",
       "      <td>1</td>\n",
       "      <td>0</td>\n",
       "      <td>22676</td>\n",
       "      <td>320</td>\n",
       "      <td>50</td>\n",
       "      <td>2616</td>\n",
       "      <td>0</td>\n",
       "      <td>35</td>\n",
       "      <td>100083</td>\n",
       "      <td>51</td>\n",
       "    </tr>\n",
       "    <tr>\n",
       "      <th>2</th>\n",
       "      <td>1.000055e+19</td>\n",
       "      <td>14103100</td>\n",
       "      <td>1005</td>\n",
       "      <td>0</td>\n",
       "      <td>1fbe01fe</td>\n",
       "      <td>f3845767</td>\n",
       "      <td>28905ebd</td>\n",
       "      <td>ecad2386</td>\n",
       "      <td>7801e8d9</td>\n",
       "      <td>07d7df22</td>\n",
       "      <td>a99f214a</td>\n",
       "      <td>10fb085b</td>\n",
       "      <td>1f0bc64f</td>\n",
       "      <td>1</td>\n",
       "      <td>0</td>\n",
       "      <td>22676</td>\n",
       "      <td>320</td>\n",
       "      <td>50</td>\n",
       "      <td>2616</td>\n",
       "      <td>0</td>\n",
       "      <td>35</td>\n",
       "      <td>100083</td>\n",
       "      <td>51</td>\n",
       "    </tr>\n",
       "    <tr>\n",
       "      <th>3</th>\n",
       "      <td>1.000109e+19</td>\n",
       "      <td>14103100</td>\n",
       "      <td>1005</td>\n",
       "      <td>0</td>\n",
       "      <td>85f751fd</td>\n",
       "      <td>c4e18dd6</td>\n",
       "      <td>50e219e0</td>\n",
       "      <td>51cedd4e</td>\n",
       "      <td>aefc06bd</td>\n",
       "      <td>0f2161f8</td>\n",
       "      <td>a99f214a</td>\n",
       "      <td>422d257a</td>\n",
       "      <td>542422a7</td>\n",
       "      <td>1</td>\n",
       "      <td>0</td>\n",
       "      <td>18648</td>\n",
       "      <td>320</td>\n",
       "      <td>50</td>\n",
       "      <td>1092</td>\n",
       "      <td>3</td>\n",
       "      <td>809</td>\n",
       "      <td>100156</td>\n",
       "      <td>61</td>\n",
       "    </tr>\n",
       "    <tr>\n",
       "      <th>4</th>\n",
       "      <td>1.000138e+19</td>\n",
       "      <td>14103100</td>\n",
       "      <td>1005</td>\n",
       "      <td>0</td>\n",
       "      <td>85f751fd</td>\n",
       "      <td>c4e18dd6</td>\n",
       "      <td>50e219e0</td>\n",
       "      <td>9c13b419</td>\n",
       "      <td>2347f47a</td>\n",
       "      <td>f95efa07</td>\n",
       "      <td>a99f214a</td>\n",
       "      <td>078c6b38</td>\n",
       "      <td>1f0bc64f</td>\n",
       "      <td>1</td>\n",
       "      <td>0</td>\n",
       "      <td>23160</td>\n",
       "      <td>320</td>\n",
       "      <td>50</td>\n",
       "      <td>2667</td>\n",
       "      <td>0</td>\n",
       "      <td>47</td>\n",
       "      <td>-1</td>\n",
       "      <td>221</td>\n",
       "    </tr>\n",
       "  </tbody>\n",
       "</table>\n",
       "</div>"
      ],
      "text/plain": [
       "             id      hour    C1  banner_pos   site_id site_domain  \\\n",
       "0  1.000017e+19  14103100  1005           0  235ba823    f6ebf28e   \n",
       "1  1.000018e+19  14103100  1005           0  1fbe01fe    f3845767   \n",
       "2  1.000055e+19  14103100  1005           0  1fbe01fe    f3845767   \n",
       "3  1.000109e+19  14103100  1005           0  85f751fd    c4e18dd6   \n",
       "4  1.000138e+19  14103100  1005           0  85f751fd    c4e18dd6   \n",
       "\n",
       "  site_category    app_id app_domain app_category device_id device_ip  \\\n",
       "0      f028772b  ecad2386   7801e8d9     07d7df22  a99f214a  69f45779   \n",
       "1      28905ebd  ecad2386   7801e8d9     07d7df22  a99f214a  e8d44657   \n",
       "2      28905ebd  ecad2386   7801e8d9     07d7df22  a99f214a  10fb085b   \n",
       "3      50e219e0  51cedd4e   aefc06bd     0f2161f8  a99f214a  422d257a   \n",
       "4      50e219e0  9c13b419   2347f47a     f95efa07  a99f214a  078c6b38   \n",
       "\n",
       "  device_model  device_type  device_conn_type    C14  C15  C16   C17  C18  \\\n",
       "0     0eb711ec            1                 0   8330  320   50   761    3   \n",
       "1     ecb851b2            1                 0  22676  320   50  2616    0   \n",
       "2     1f0bc64f            1                 0  22676  320   50  2616    0   \n",
       "3     542422a7            1                 0  18648  320   50  1092    3   \n",
       "4     1f0bc64f            1                 0  23160  320   50  2667    0   \n",
       "\n",
       "   C19     C20  C21  \n",
       "0  175  100075   23  \n",
       "1   35  100083   51  \n",
       "2   35  100083   51  \n",
       "3  809  100156   61  \n",
       "4   47      -1  221  "
      ]
     },
     "execution_count": 5,
     "metadata": {},
     "output_type": "execute_result"
    }
   ],
   "source": [
    "test.head()"
   ]
  },
  {
   "cell_type": "markdown",
   "metadata": {},
   "source": [
    "### 檢查缺失值\n",
    "無缺失值"
   ]
  },
  {
   "cell_type": "code",
   "execution_count": 6,
   "metadata": {
    "execution": {
     "iopub.execute_input": "2023-07-18T07:25:07.218648Z",
     "iopub.status.busy": "2023-07-18T07:25:07.218180Z",
     "iopub.status.idle": "2023-07-18T07:25:17.178008Z",
     "shell.execute_reply": "2023-07-18T07:25:17.177023Z",
     "shell.execute_reply.started": "2023-07-18T07:25:07.218548Z"
    }
   },
   "outputs": [
    {
     "data": {
      "text/plain": [
       "id                  0\n",
       "click               0\n",
       "hour                0\n",
       "C1                  0\n",
       "banner_pos          0\n",
       "site_id             0\n",
       "site_domain         0\n",
       "site_category       0\n",
       "app_id              0\n",
       "app_domain          0\n",
       "app_category        0\n",
       "device_id           0\n",
       "device_ip           0\n",
       "device_model        0\n",
       "device_type         0\n",
       "device_conn_type    0\n",
       "C14                 0\n",
       "C15                 0\n",
       "C16                 0\n",
       "C17                 0\n",
       "C18                 0\n",
       "C19                 0\n",
       "C20                 0\n",
       "C21                 0\n",
       "dtype: int64"
      ]
     },
     "execution_count": 6,
     "metadata": {},
     "output_type": "execute_result"
    }
   ],
   "source": [
    "train.isna().sum()"
   ]
  },
  {
   "cell_type": "markdown",
   "metadata": {},
   "source": [
    "### 查看預測目標（點擊）的資料分佈\n",
    "0為沒有點擊，1為有點擊<br>\n",
    "廣告點擊的分佈並不平衡。"
   ]
  },
  {
   "cell_type": "code",
   "execution_count": 7,
   "metadata": {
    "execution": {
     "iopub.execute_input": "2023-07-18T07:25:17.179889Z",
     "iopub.status.busy": "2023-07-18T07:25:17.179429Z",
     "iopub.status.idle": "2023-07-18T07:25:17.467916Z",
     "shell.execute_reply": "2023-07-18T07:25:17.467078Z",
     "shell.execute_reply.started": "2023-07-18T07:25:17.179851Z"
    }
   },
   "outputs": [
    {
     "name": "stdout",
     "output_type": "stream",
     "text": [
      "0    4151607\n",
      "1     848393\n",
      "Name: click, dtype: int64\n"
     ]
    },
    {
     "data": {
      "image/png": "[encoded data removed]",
      "text/plain": [
       "<Figure size 432x288 with 1 Axes>"
      ]
     },
     "metadata": {},
     "output_type": "display_data"
    }
   ],
   "source": [
    "train.click.value_counts().plot(kind='bar')\n",
    "print(train.click.value_counts())"
   ]
  },
  {
   "cell_type": "markdown",
   "metadata": {},
   "source": [
    "### 檢視廣告排名的分佈\n",
    "排名高的廣告有較高機會被用戶看到，因此可能會影響點擊率。<br>\n",
    "大多數的廣告排名都在第一位。"
   ]
  },
  {
   "cell_type": "code",
   "execution_count": 8,
   "metadata": {
    "execution": {
     "iopub.execute_input": "2023-07-18T07:25:17.470974Z",
     "iopub.status.busy": "2023-07-18T07:25:17.470422Z",
     "iopub.status.idle": "2023-07-18T07:25:17.998531Z",
     "shell.execute_reply": "2023-07-18T07:25:17.997699Z",
     "shell.execute_reply.started": "2023-07-18T07:25:17.470933Z"
    }
   },
   "outputs": [
    {
     "data": {
      "text/plain": [
       "0    3599809\n",
       "1    1391234\n",
       "7       5458\n",
       "2       1642\n",
       "4        953\n",
       "5        651\n",
       "3        253\n",
       "Name: banner_pos, dtype: int64"
      ]
     },
     "execution_count": 8,
     "metadata": {},
     "output_type": "execute_result"
    }
   ],
   "source": [
    "train.banner_pos.value_counts()"
   ]
  },
  {
   "cell_type": "markdown",
   "metadata": {},
   "source": [
    "### 廣告排名和點擊率\n",
    "圖表顯示排名和點擊率並沒有正向關係。"
   ]
  },
  {
   "cell_type": "code",
   "execution_count": 9,
   "metadata": {
    "execution": {
     "iopub.execute_input": "2023-07-18T07:25:18.000265Z",
     "iopub.status.busy": "2023-07-18T07:25:17.999841Z",
     "iopub.status.idle": "2023-07-18T07:25:24.785456Z",
     "shell.execute_reply": "2023-07-18T07:25:24.784664Z",
     "shell.execute_reply.started": "2023-07-18T07:25:18.000235Z"
    }
   },
   "outputs": [
    {
     "data": {
      "text/plain": [
       "<AxesSubplot:xlabel='banner_pos', ylabel='count'>"
      ]
     },
     "execution_count": 9,
     "metadata": {},
     "output_type": "execute_result"
    },
    {
     "data": {
      "image/png": "[encoded data removed]",
      "text/plain": [
       "<Figure size 1080x720 with 1 Axes>"
      ]
     },
     "metadata": {},
     "output_type": "display_data"
    }
   ],
   "source": [
    "plt.figure(figsize=(15,10))\n",
    "sns.countplot(x='banner_pos',hue='click',data=train)"
   ]
  },
  {
   "cell_type": "markdown",
   "metadata": {},
   "source": [
    "### 檢視點擊和時間的關係"
   ]
  },
  {
   "cell_type": "code",
   "execution_count": 10,
   "metadata": {
    "execution": {
     "iopub.execute_input": "2023-07-18T07:25:24.787336Z",
     "iopub.status.busy": "2023-07-18T07:25:24.786976Z",
     "iopub.status.idle": "2023-07-18T07:25:30.834947Z",
     "shell.execute_reply": "2023-07-18T07:25:30.834137Z",
     "shell.execute_reply.started": "2023-07-18T07:25:24.787299Z"
    }
   },
   "outputs": [
    {
     "data": {
      "text/plain": [
       "<AxesSubplot:xlabel='hour', ylabel='count'>"
      ]
     },
     "execution_count": 10,
     "metadata": {},
     "output_type": "execute_result"
    },
    {
     "data": {
      "image/png": "[encoded data removed]",
      "text/plain": [
       "<Figure size 1080x720 with 1 Axes>"
      ]
     },
     "metadata": {},
     "output_type": "display_data"
    }
   ],
   "source": [
    "plt.figure(figsize=(15,10))\n",
    "sns.countplot(x='hour',hue='click',data=train)"
   ]
  },
  {
   "cell_type": "markdown",
   "metadata": {},
   "source": [
    "### 點擊數與小時分析\n",
    "擷取一天的資料，檢視點擊數是否因時間而改變。\n",
    "\n",
    "發現點擊依時間推移有一些波動。"
   ]
  },
  {
   "cell_type": "code",
   "execution_count": 11,
   "metadata": {
    "execution": {
     "iopub.execute_input": "2023-07-18T07:25:30.836635Z",
     "iopub.status.busy": "2023-07-18T07:25:30.836181Z",
     "iopub.status.idle": "2023-07-18T07:25:31.966282Z",
     "shell.execute_reply": "2023-07-18T07:25:31.965478Z",
     "shell.execute_reply.started": "2023-07-18T07:25:30.836596Z"
    }
   },
   "outputs": [
    {
     "data": {
      "image/png": "[encoded data removed]",
      "text/plain": [
       "<Figure size 1440x720 with 1 Axes>"
      ]
     },
     "metadata": {},
     "output_type": "display_data"
    }
   ],
   "source": [
    "ex_data = train[train['hour'] < '2014-10-22']\n",
    "ex_data['extract_hour'] = ex_data['hour'].dt.hour\n",
    "plt.figure(figsize=(20, 10))\n",
    "sns.countplot(x='extract_hour',hue='click',data=ex_data)\n",
    "plt.legend(title='Click', loc='upper right', prop={'size': 15})\n",
    "plt.show()"
   ]
  },
  {
   "cell_type": "code",
   "execution_count": 12,
   "metadata": {
    "execution": {
     "iopub.execute_input": "2023-07-18T07:25:31.968065Z",
     "iopub.status.busy": "2023-07-18T07:25:31.967580Z",
     "iopub.status.idle": "2023-07-18T07:25:31.974680Z",
     "shell.execute_reply": "2023-07-18T07:25:31.973703Z",
     "shell.execute_reply.started": "2023-07-18T07:25:31.968023Z"
    }
   },
   "outputs": [],
   "source": [
    "train.set_index('hour',inplace=True)"
   ]
  },
  {
   "cell_type": "code",
   "execution_count": 13,
   "metadata": {
    "execution": {
     "iopub.execute_input": "2023-07-18T07:25:31.978151Z",
     "iopub.status.busy": "2023-07-18T07:25:31.976189Z",
     "iopub.status.idle": "2023-07-18T07:25:31.985609Z",
     "shell.execute_reply": "2023-07-18T07:25:31.984805Z",
     "shell.execute_reply.started": "2023-07-18T07:25:31.978107Z"
    }
   },
   "outputs": [],
   "source": [
    "test.set_index('hour',inplace=True)"
   ]
  },
  {
   "cell_type": "markdown",
   "metadata": {},
   "source": [
    "### 稀疏特徵\n",
    " * C1\n",
    " * banner_pos\n",
    " * site_id\n",
    " * site_domain\n",
    " * site_category\n",
    " * app_id\n",
    " * app_domain\n",
    " * app_category\n",
    " * device_id\n",
    " * device_ip\n",
    " * device_model\n",
    " * device_type\n",
    " * device_conn_type\n",
    "\n",
    "### 密集特徵\n",
    " * C14 ~ c21"
   ]
  },
  {
   "cell_type": "code",
   "execution_count": 39,
   "metadata": {
    "execution": {
     "iopub.execute_input": "2023-07-18T09:02:53.537420Z",
     "iopub.status.busy": "2023-07-18T09:02:53.536997Z",
     "iopub.status.idle": "2023-07-18T09:02:53.541689Z",
     "shell.execute_reply": "2023-07-18T09:02:53.540521Z",
     "shell.execute_reply.started": "2023-07-18T09:02:53.537385Z"
    }
   },
   "outputs": [],
   "source": [
    "!pip install deepctr_torch"
   ]
  },
  {
   "cell_type": "markdown",
   "metadata": {},
   "source": [
    "## 進行數據預處理並設定特徵列(feature columns)以供機器學習模型使用"
   ]
  },
  {
   "cell_type": "code",
   "execution_count": 18,
   "metadata": {
    "execution": {
     "iopub.execute_input": "2023-07-18T07:28:39.193637Z",
     "iopub.status.busy": "2023-07-18T07:28:39.192900Z",
     "iopub.status.idle": "2023-07-18T07:28:43.636278Z",
     "shell.execute_reply": "2023-07-18T07:28:43.633045Z",
     "shell.execute_reply.started": "2023-07-18T07:28:39.193590Z"
    }
   },
   "outputs": [],
   "source": [
    "import torch\n",
    "from deepctr_torch.inputs import SparseFeat, DenseFeat, get_feature_names\n",
    "from deepctr_torch.models import *"
   ]
  },
  {
   "cell_type": "code",
   "execution_count": 19,
   "metadata": {
    "execution": {
     "iopub.execute_input": "2023-07-18T07:28:43.638984Z",
     "iopub.status.busy": "2023-07-18T07:28:43.638299Z",
     "iopub.status.idle": "2023-07-18T07:28:43.643613Z",
     "shell.execute_reply": "2023-07-18T07:28:43.642875Z",
     "shell.execute_reply.started": "2023-07-18T07:28:43.638942Z"
    }
   },
   "outputs": [],
   "source": [
    "data = train"
   ]
  },
  {
   "cell_type": "code",
   "execution_count": 20,
   "metadata": {
    "execution": {
     "iopub.execute_input": "2023-07-18T07:28:43.647038Z",
     "iopub.status.busy": "2023-07-18T07:28:43.646361Z",
     "iopub.status.idle": "2023-07-18T07:28:45.120195Z",
     "shell.execute_reply": "2023-07-18T07:28:45.119066Z",
     "shell.execute_reply.started": "2023-07-18T07:28:43.646999Z"
    }
   },
   "outputs": [],
   "source": [
    "sparse_features = train.iloc[::,2:14].columns.values.tolist()\n",
    "dense_features = train.iloc[::,15:].columns.values.tolist()\n",
    "sparse_features.append('id')\n",
    "target = ['click']"
   ]
  },
  {
   "cell_type": "code",
   "execution_count": 21,
   "metadata": {
    "execution": {
     "iopub.execute_input": "2023-07-18T07:28:45.122245Z",
     "iopub.status.busy": "2023-07-18T07:28:45.121845Z",
     "iopub.status.idle": "2023-07-18T07:28:45.152568Z",
     "shell.execute_reply": "2023-07-18T07:28:45.151829Z",
     "shell.execute_reply.started": "2023-07-18T07:28:45.122207Z"
    }
   },
   "outputs": [
    {
     "data": {
      "text/html": [
       "<div>\n",
       "<style scoped>\n",
       "    .dataframe tbody tr th:only-of-type {\n",
       "        vertical-align: middle;\n",
       "    }\n",
       "\n",
       "    .dataframe tbody tr th {\n",
       "        vertical-align: top;\n",
       "    }\n",
       "\n",
       "    .dataframe thead th {\n",
       "        text-align: right;\n",
       "    }\n",
       "</style>\n",
       "<table border=\"1\" class=\"dataframe\">\n",
       "  <thead>\n",
       "    <tr style=\"text-align: right;\">\n",
       "      <th></th>\n",
       "      <th>id</th>\n",
       "      <th>C1</th>\n",
       "      <th>banner_pos</th>\n",
       "      <th>site_id</th>\n",
       "      <th>site_domain</th>\n",
       "      <th>site_category</th>\n",
       "      <th>app_id</th>\n",
       "      <th>app_domain</th>\n",
       "      <th>app_category</th>\n",
       "      <th>device_id</th>\n",
       "      <th>device_ip</th>\n",
       "      <th>device_model</th>\n",
       "      <th>device_type</th>\n",
       "      <th>device_conn_type</th>\n",
       "      <th>C14</th>\n",
       "      <th>C15</th>\n",
       "      <th>C16</th>\n",
       "      <th>C17</th>\n",
       "      <th>C18</th>\n",
       "      <th>C19</th>\n",
       "      <th>C20</th>\n",
       "      <th>C21</th>\n",
       "    </tr>\n",
       "    <tr>\n",
       "      <th>hour</th>\n",
       "      <th></th>\n",
       "      <th></th>\n",
       "      <th></th>\n",
       "      <th></th>\n",
       "      <th></th>\n",
       "      <th></th>\n",
       "      <th></th>\n",
       "      <th></th>\n",
       "      <th></th>\n",
       "      <th></th>\n",
       "      <th></th>\n",
       "      <th></th>\n",
       "      <th></th>\n",
       "      <th></th>\n",
       "      <th></th>\n",
       "      <th></th>\n",
       "      <th></th>\n",
       "      <th></th>\n",
       "      <th></th>\n",
       "      <th></th>\n",
       "      <th></th>\n",
       "      <th></th>\n",
       "    </tr>\n",
       "  </thead>\n",
       "  <tbody>\n",
       "    <tr>\n",
       "      <th>14103100</th>\n",
       "      <td>1.000017e+19</td>\n",
       "      <td>1005</td>\n",
       "      <td>0</td>\n",
       "      <td>235ba823</td>\n",
       "      <td>f6ebf28e</td>\n",
       "      <td>f028772b</td>\n",
       "      <td>ecad2386</td>\n",
       "      <td>7801e8d9</td>\n",
       "      <td>07d7df22</td>\n",
       "      <td>a99f214a</td>\n",
       "      <td>69f45779</td>\n",
       "      <td>0eb711ec</td>\n",
       "      <td>1</td>\n",
       "      <td>0</td>\n",
       "      <td>8330</td>\n",
       "      <td>320</td>\n",
       "      <td>50</td>\n",
       "      <td>761</td>\n",
       "      <td>3</td>\n",
       "      <td>175</td>\n",
       "      <td>100075</td>\n",
       "      <td>23</td>\n",
       "    </tr>\n",
       "    <tr>\n",
       "      <th>14103100</th>\n",
       "      <td>1.000018e+19</td>\n",
       "      <td>1005</td>\n",
       "      <td>0</td>\n",
       "      <td>1fbe01fe</td>\n",
       "      <td>f3845767</td>\n",
       "      <td>28905ebd</td>\n",
       "      <td>ecad2386</td>\n",
       "      <td>7801e8d9</td>\n",
       "      <td>07d7df22</td>\n",
       "      <td>a99f214a</td>\n",
       "      <td>e8d44657</td>\n",
       "      <td>ecb851b2</td>\n",
       "      <td>1</td>\n",
       "      <td>0</td>\n",
       "      <td>22676</td>\n",
       "      <td>320</td>\n",
       "      <td>50</td>\n",
       "      <td>2616</td>\n",
       "      <td>0</td>\n",
       "      <td>35</td>\n",
       "      <td>100083</td>\n",
       "      <td>51</td>\n",
       "    </tr>\n",
       "    <tr>\n",
       "      <th>14103100</th>\n",
       "      <td>1.000055e+19</td>\n",
       "      <td>1005</td>\n",
       "      <td>0</td>\n",
       "      <td>1fbe01fe</td>\n",
       "      <td>f3845767</td>\n",
       "      <td>28905ebd</td>\n",
       "      <td>ecad2386</td>\n",
       "      <td>7801e8d9</td>\n",
       "      <td>07d7df22</td>\n",
       "      <td>a99f214a</td>\n",
       "      <td>10fb085b</td>\n",
       "      <td>1f0bc64f</td>\n",
       "      <td>1</td>\n",
       "      <td>0</td>\n",
       "      <td>22676</td>\n",
       "      <td>320</td>\n",
       "      <td>50</td>\n",
       "      <td>2616</td>\n",
       "      <td>0</td>\n",
       "      <td>35</td>\n",
       "      <td>100083</td>\n",
       "      <td>51</td>\n",
       "    </tr>\n",
       "    <tr>\n",
       "      <th>14103100</th>\n",
       "      <td>1.000109e+19</td>\n",
       "      <td>1005</td>\n",
       "      <td>0</td>\n",
       "      <td>85f751fd</td>\n",
       "      <td>c4e18dd6</td>\n",
       "      <td>50e219e0</td>\n",
       "      <td>51cedd4e</td>\n",
       "      <td>aefc06bd</td>\n",
       "      <td>0f2161f8</td>\n",
       "      <td>a99f214a</td>\n",
       "      <td>422d257a</td>\n",
       "      <td>542422a7</td>\n",
       "      <td>1</td>\n",
       "      <td>0</td>\n",
       "      <td>18648</td>\n",
       "      <td>320</td>\n",
       "      <td>50</td>\n",
       "      <td>1092</td>\n",
       "      <td>3</td>\n",
       "      <td>809</td>\n",
       "      <td>100156</td>\n",
       "      <td>61</td>\n",
       "    </tr>\n",
       "    <tr>\n",
       "      <th>14103100</th>\n",
       "      <td>1.000138e+19</td>\n",
       "      <td>1005</td>\n",
       "      <td>0</td>\n",
       "      <td>85f751fd</td>\n",
       "      <td>c4e18dd6</td>\n",
       "      <td>50e219e0</td>\n",
       "      <td>9c13b419</td>\n",
       "      <td>2347f47a</td>\n",
       "      <td>f95efa07</td>\n",
       "      <td>a99f214a</td>\n",
       "      <td>078c6b38</td>\n",
       "      <td>1f0bc64f</td>\n",
       "      <td>1</td>\n",
       "      <td>0</td>\n",
       "      <td>23160</td>\n",
       "      <td>320</td>\n",
       "      <td>50</td>\n",
       "      <td>2667</td>\n",
       "      <td>0</td>\n",
       "      <td>47</td>\n",
       "      <td>-1</td>\n",
       "      <td>221</td>\n",
       "    </tr>\n",
       "  </tbody>\n",
       "</table>\n",
       "</div>"
      ],
      "text/plain": [
       "                    id    C1  banner_pos   site_id site_domain site_category  \\\n",
       "hour                                                                           \n",
       "14103100  1.000017e+19  1005           0  235ba823    f6ebf28e      f028772b   \n",
       "14103100  1.000018e+19  1005           0  1fbe01fe    f3845767      28905ebd   \n",
       "14103100  1.000055e+19  1005           0  1fbe01fe    f3845767      28905ebd   \n",
       "14103100  1.000109e+19  1005           0  85f751fd    c4e18dd6      50e219e0   \n",
       "14103100  1.000138e+19  1005           0  85f751fd    c4e18dd6      50e219e0   \n",
       "\n",
       "            app_id app_domain app_category device_id device_ip device_model  \\\n",
       "hour                                                                          \n",
       "14103100  ecad2386   7801e8d9     07d7df22  a99f214a  69f45779     0eb711ec   \n",
       "14103100  ecad2386   7801e8d9     07d7df22  a99f214a  e8d44657     ecb851b2   \n",
       "14103100  ecad2386   7801e8d9     07d7df22  a99f214a  10fb085b     1f0bc64f   \n",
       "14103100  51cedd4e   aefc06bd     0f2161f8  a99f214a  422d257a     542422a7   \n",
       "14103100  9c13b419   2347f47a     f95efa07  a99f214a  078c6b38     1f0bc64f   \n",
       "\n",
       "          device_type  device_conn_type    C14  C15  C16   C17  C18  C19  \\\n",
       "hour                                                                       \n",
       "14103100            1                 0   8330  320   50   761    3  175   \n",
       "14103100            1                 0  22676  320   50  2616    0   35   \n",
       "14103100            1                 0  22676  320   50  2616    0   35   \n",
       "14103100            1                 0  18648  320   50  1092    3  809   \n",
       "14103100            1                 0  23160  320   50  2667    0   47   \n",
       "\n",
       "             C20  C21  \n",
       "hour                   \n",
       "14103100  100075   23  \n",
       "14103100  100083   51  \n",
       "14103100  100083   51  \n",
       "14103100  100156   61  \n",
       "14103100      -1  221  "
      ]
     },
     "execution_count": 21,
     "metadata": {},
     "output_type": "execute_result"
    }
   ],
   "source": [
    "test.head()"
   ]
  },
  {
   "cell_type": "markdown",
   "metadata": {},
   "source": [
    "## 指定稀疏特徵和密集特徵"
   ]
  },
  {
   "cell_type": "code",
   "execution_count": 22,
   "metadata": {
    "execution": {
     "iopub.execute_input": "2023-07-18T07:28:45.155080Z",
     "iopub.status.busy": "2023-07-18T07:28:45.154114Z",
     "iopub.status.idle": "2023-07-18T07:28:46.019225Z",
     "shell.execute_reply": "2023-07-18T07:28:46.018295Z",
     "shell.execute_reply.started": "2023-07-18T07:28:45.155041Z"
    }
   },
   "outputs": [],
   "source": [
    "test_sparse_features = test.iloc[::,0:14].columns.values.tolist()\n",
    "test_dense_features = test.iloc[::,14:].columns.values.tolist()"
   ]
  },
  {
   "cell_type": "code",
   "execution_count": 23,
   "metadata": {
    "execution": {
     "iopub.execute_input": "2023-07-18T07:28:46.020840Z",
     "iopub.status.busy": "2023-07-18T07:28:46.020441Z",
     "iopub.status.idle": "2023-07-18T07:28:46.026220Z",
     "shell.execute_reply": "2023-07-18T07:28:46.025214Z",
     "shell.execute_reply.started": "2023-07-18T07:28:46.020801Z"
    }
   },
   "outputs": [],
   "source": [
    "from sklearn.preprocessing import MinMaxScaler,LabelEncoder\n",
    "scaler = MinMaxScaler(feature_range=(0,1))\n",
    "encoder = LabelEncoder()"
   ]
  },
  {
   "cell_type": "code",
   "execution_count": 24,
   "metadata": {
    "execution": {
     "iopub.execute_input": "2023-07-18T07:28:46.028390Z",
     "iopub.status.busy": "2023-07-18T07:28:46.027775Z",
     "iopub.status.idle": "2023-07-18T07:29:47.646777Z",
     "shell.execute_reply": "2023-07-18T07:29:47.645891Z",
     "shell.execute_reply.started": "2023-07-18T07:28:46.028353Z"
    }
   },
   "outputs": [],
   "source": [
    "for f in sparse_features:\n",
    "    data[f] = encoder.fit_transform(data[f])\n",
    "data[dense_features] = scaler.fit_transform(data[dense_features])"
   ]
  },
  {
   "cell_type": "code",
   "execution_count": 25,
   "metadata": {
    "execution": {
     "iopub.execute_input": "2023-07-18T07:29:47.648931Z",
     "iopub.status.busy": "2023-07-18T07:29:47.648021Z",
     "iopub.status.idle": "2023-07-18T07:30:14.946510Z",
     "shell.execute_reply": "2023-07-18T07:30:14.945469Z",
     "shell.execute_reply.started": "2023-07-18T07:29:47.648891Z"
    }
   },
   "outputs": [],
   "source": [
    "for f in test_sparse_features:\n",
    "    test[f] = encoder.fit_transform(test[f])\n",
    "test[dense_features] = scaler.fit_transform(test[test_dense_features])"
   ]
  },
  {
   "cell_type": "markdown",
   "metadata": {},
   "source": [
    "### 根據稀疏特徵和密集特徵的特點，建構出一組特徵列\n",
    "- 對於稀疏特徵，使用 SparseFeat(f, data[f].nunique()) 建立一個稀疏特徵列，其中 f 是特徵名稱\n",
    "- 對於密集特徵，使用 DenseFeat(f, 1) 建立一個密集特徵列\n",
    "\n",
    "這些特徵列將用於後續的機器學習模型建構，以描述模型應該如何處理不同類型的特徵。稀疏特徵列和密集特徵列將一起作為模型的輸入特徵。"
   ]
  },
  {
   "cell_type": "code",
   "execution_count": 26,
   "metadata": {
    "execution": {
     "iopub.execute_input": "2023-07-18T07:30:14.950820Z",
     "iopub.status.busy": "2023-07-18T07:30:14.949931Z",
     "iopub.status.idle": "2023-07-18T07:30:16.009314Z",
     "shell.execute_reply": "2023-07-18T07:30:16.008399Z",
     "shell.execute_reply.started": "2023-07-18T07:30:14.950755Z"
    }
   },
   "outputs": [],
   "source": [
    "fixlen_feature_columns = [SparseFeat(f,data[f].nunique()) \n",
    "                          for f in sparse_features] + [DenseFeat(f,1,)\n",
    "                                                         for f in dense_features]"
   ]
  },
  {
   "cell_type": "code",
   "execution_count": 27,
   "metadata": {
    "execution": {
     "iopub.execute_input": "2023-07-18T07:30:16.010918Z",
     "iopub.status.busy": "2023-07-18T07:30:16.010525Z",
     "iopub.status.idle": "2023-07-18T07:30:16.016781Z",
     "shell.execute_reply": "2023-07-18T07:30:16.015935Z",
     "shell.execute_reply.started": "2023-07-18T07:30:16.010881Z"
    }
   },
   "outputs": [
    {
     "data": {
      "text/plain": [
       "SparseFeat(name='banner_pos', vocabulary_size=7, embedding_dim=4, use_hash=False, dtype='int32', embedding_name='banner_pos', group_name='default_group')"
      ]
     },
     "execution_count": 27,
     "metadata": {},
     "output_type": "execute_result"
    }
   ],
   "source": [
    "fixlen_feature_columns[1]"
   ]
  },
  {
   "cell_type": "markdown",
   "metadata": {},
   "source": [
    "## 定義深度神經網路（DNN）模型和線性模型的特徵列，並獲取所有特徵的名稱。"
   ]
  },
  {
   "cell_type": "code",
   "execution_count": 28,
   "metadata": {
    "execution": {
     "iopub.execute_input": "2023-07-18T07:30:16.018659Z",
     "iopub.status.busy": "2023-07-18T07:30:16.018096Z",
     "iopub.status.idle": "2023-07-18T07:30:16.028784Z",
     "shell.execute_reply": "2023-07-18T07:30:16.027945Z",
     "shell.execute_reply.started": "2023-07-18T07:30:16.018620Z"
    }
   },
   "outputs": [],
   "source": [
    "dnn_feature_columns = fixlen_feature_columns\n",
    "linear_feature_columns = fixlen_feature_columns"
   ]
  },
  {
   "cell_type": "code",
   "execution_count": 29,
   "metadata": {
    "execution": {
     "iopub.execute_input": "2023-07-18T07:30:16.030339Z",
     "iopub.status.busy": "2023-07-18T07:30:16.029890Z",
     "iopub.status.idle": "2023-07-18T07:30:16.043180Z",
     "shell.execute_reply": "2023-07-18T07:30:16.042426Z",
     "shell.execute_reply.started": "2023-07-18T07:30:16.030302Z"
    }
   },
   "outputs": [
    {
     "data": {
      "text/plain": [
       "['C1',\n",
       " 'banner_pos',\n",
       " 'site_id',\n",
       " 'site_domain',\n",
       " 'site_category',\n",
       " 'app_id',\n",
       " 'app_domain',\n",
       " 'app_category',\n",
       " 'device_id',\n",
       " 'device_ip',\n",
       " 'device_model',\n",
       " 'device_type',\n",
       " 'id',\n",
       " 'C14',\n",
       " 'C15',\n",
       " 'C16',\n",
       " 'C17',\n",
       " 'C18',\n",
       " 'C19',\n",
       " 'C20',\n",
       " 'C21']"
      ]
     },
     "execution_count": 29,
     "metadata": {},
     "output_type": "execute_result"
    }
   ],
   "source": [
    "feature_names = get_feature_names(linear_feature_columns + dnn_feature_columns)\n",
    "feature_names"
   ]
  },
  {
   "cell_type": "markdown",
   "metadata": {},
   "source": []
  },
  {
   "cell_type": "code",
   "execution_count": 30,
   "metadata": {
    "execution": {
     "iopub.execute_input": "2023-07-18T07:30:16.044791Z",
     "iopub.status.busy": "2023-07-18T07:30:16.044408Z",
     "iopub.status.idle": "2023-07-18T07:30:16.053397Z",
     "shell.execute_reply": "2023-07-18T07:30:16.052442Z",
     "shell.execute_reply.started": "2023-07-18T07:30:16.044737Z"
    }
   },
   "outputs": [],
   "source": [
    "train_model_input = {name: data[name]for name in feature_names}"
   ]
  },
  {
   "cell_type": "code",
   "execution_count": 31,
   "metadata": {
    "execution": {
     "iopub.execute_input": "2023-07-18T07:30:16.055050Z",
     "iopub.status.busy": "2023-07-18T07:30:16.054573Z",
     "iopub.status.idle": "2023-07-18T07:30:16.065567Z",
     "shell.execute_reply": "2023-07-18T07:30:16.064668Z",
     "shell.execute_reply.started": "2023-07-18T07:30:16.055011Z"
    }
   },
   "outputs": [],
   "source": [
    "test_model_input = {name: test[name] for name in feature_names}"
   ]
  },
  {
   "cell_type": "markdown",
   "metadata": {},
   "source": [
    "檢查是否支援CUDA，即 GPU 加速。若有，就用GPU"
   ]
  },
  {
   "cell_type": "code",
   "execution_count": 32,
   "metadata": {
    "execution": {
     "iopub.execute_input": "2023-07-18T07:30:16.067695Z",
     "iopub.status.busy": "2023-07-18T07:30:16.066906Z",
     "iopub.status.idle": "2023-07-18T07:30:16.142630Z",
     "shell.execute_reply": "2023-07-18T07:30:16.141786Z",
     "shell.execute_reply.started": "2023-07-18T07:30:16.067659Z"
    }
   },
   "outputs": [],
   "source": [
    "device = ('cuda' if torch.cuda.is_available() else 'cpu')"
   ]
  },
  {
   "cell_type": "markdown",
   "metadata": {},
   "source": [
    "## 建立模型\n",
    "- linear_feature_columns 和 dnn_feature_columns 是先前定義的特徵列列表，用於描述模型的輸入特徵。linear_feature_columns 描述了模型的線性部分所使用的特徵，而 dnn_feature_columns 描述了模型的深度學習部分所使用的特徵。\n",
    "- dnn_dropout=0.7 表示在深度學習部分的網絡中使用 0.7 的 dropout 比例，用於防止過擬合。"
   ]
  },
  {
   "cell_type": "code",
   "execution_count": 33,
   "metadata": {
    "execution": {
     "iopub.execute_input": "2023-07-18T07:30:16.145521Z",
     "iopub.status.busy": "2023-07-18T07:30:16.144675Z",
     "iopub.status.idle": "2023-07-18T07:30:21.566543Z",
     "shell.execute_reply": "2023-07-18T07:30:21.565650Z",
     "shell.execute_reply.started": "2023-07-18T07:30:16.145484Z"
    }
   },
   "outputs": [
    {
     "data": {
      "text/plain": [
       "DeepFM(\n",
       "  (embedding_dict): ModuleDict(\n",
       "    (C1): Embedding(7, 4)\n",
       "    (banner_pos): Embedding(7, 4)\n",
       "    (site_id): Embedding(3580, 4)\n",
       "    (site_domain): Embedding(4547, 4)\n",
       "    (site_category): Embedding(24, 4)\n",
       "    (app_id): Embedding(5147, 4)\n",
       "    (app_domain): Embedding(317, 4)\n",
       "    (app_category): Embedding(28, 4)\n",
       "    (device_id): Embedding(599395, 4)\n",
       "    (device_ip): Embedding(1905679, 4)\n",
       "    (device_model): Embedding(6561, 4)\n",
       "    (device_type): Embedding(5, 4)\n",
       "    (id): Embedding(5000000, 4)\n",
       "  )\n",
       "  (linear_model): Linear(\n",
       "    (embedding_dict): ModuleDict(\n",
       "      (C1): Embedding(7, 1)\n",
       "      (banner_pos): Embedding(7, 1)\n",
       "      (site_id): Embedding(3580, 1)\n",
       "      (site_domain): Embedding(4547, 1)\n",
       "      (site_category): Embedding(24, 1)\n",
       "      (app_id): Embedding(5147, 1)\n",
       "      (app_domain): Embedding(317, 1)\n",
       "      (app_category): Embedding(28, 1)\n",
       "      (device_id): Embedding(599395, 1)\n",
       "      (device_ip): Embedding(1905679, 1)\n",
       "      (device_model): Embedding(6561, 1)\n",
       "      (device_type): Embedding(5, 1)\n",
       "      (id): Embedding(5000000, 1)\n",
       "    )\n",
       "  )\n",
       "  (out): PredictionLayer()\n",
       "  (fm): FM()\n",
       "  (dnn): DNN(\n",
       "    (dropout): Dropout(p=0.7, inplace=False)\n",
       "    (linears): ModuleList(\n",
       "      (0): Linear(in_features=60, out_features=256, bias=True)\n",
       "      (1): Linear(in_features=256, out_features=128, bias=True)\n",
       "    )\n",
       "    (activation_layers): ModuleList(\n",
       "      (0): ReLU(inplace=True)\n",
       "      (1): ReLU(inplace=True)\n",
       "    )\n",
       "  )\n",
       "  (dnn_linear): Linear(in_features=128, out_features=1, bias=False)\n",
       ")"
      ]
     },
     "execution_count": 33,
     "metadata": {},
     "output_type": "execute_result"
    }
   ],
   "source": [
    "model = DeepFM(linear_feature_columns,dnn_feature_columns,\n",
    "               task='binary',device=device,dnn_dropout=0.7)\n",
    "model"
   ]
  },
  {
   "cell_type": "markdown",
   "metadata": {},
   "source": [
    "## 設定模型的優化器、損失函數和評估指標\n",
    "- optimizer='adam'：選擇 Adam 優化器來調整模型的權重，這是一種廣泛使用的梯度下降優化算法。\n",
    "- loss='binary_crossentropy'：設置二元分類問題中的損失函數為二元交叉熵（binary cross-entropy），用於衡量模型預測結果與實際標籤之間的差異。\n",
    "- metrics=['binary_crossentropy', 'auc']：指定模型的評估指標，這裡設置為二元交叉熵和 AUC（Area Under the Curve）。二元交叉熵用於衡量模型在測試集上的表現，而 AUC 是評估二元分類模型預測結果優劣的指標，代表了模型的分類能力。"
   ]
  },
  {
   "cell_type": "code",
   "execution_count": 34,
   "metadata": {
    "execution": {
     "iopub.execute_input": "2023-07-18T07:30:21.568391Z",
     "iopub.status.busy": "2023-07-18T07:30:21.568019Z",
     "iopub.status.idle": "2023-07-18T07:30:21.572976Z",
     "shell.execute_reply": "2023-07-18T07:30:21.572203Z",
     "shell.execute_reply.started": "2023-07-18T07:30:21.568355Z"
    }
   },
   "outputs": [],
   "source": [
    "model.compile(optimizer = 'adam',\n",
    "              loss = 'binary_crossentropy',\n",
    "              metrics = ['binary_crossentropy','auc'])"
   ]
  },
  {
   "cell_type": "markdown",
   "metadata": {},
   "source": [
    "## 訓練模型\n",
    "使用批次大小為 1024、訓練 10 輪（epochs）、並將訓練集的 20% 作為驗證集"
   ]
  },
  {
   "cell_type": "code",
   "execution_count": 35,
   "metadata": {
    "execution": {
     "iopub.execute_input": "2023-07-18T07:30:21.575092Z",
     "iopub.status.busy": "2023-07-18T07:30:21.574461Z",
     "iopub.status.idle": "2023-07-18T07:54:16.816109Z",
     "shell.execute_reply": "2023-07-18T07:54:16.814994Z",
     "shell.execute_reply.started": "2023-07-18T07:30:21.575055Z"
    }
   },
   "outputs": [
    {
     "name": "stdout",
     "output_type": "stream",
     "text": [
      "cuda\n",
      "Train on 4000000 samples, validate on 1000000 samples, 3907 steps per epoch\n"
     ]
    },
    {
     "name": "stderr",
     "output_type": "stream",
     "text": [
      "3907it [02:14, 29.04it/s]\n"
     ]
    },
    {
     "name": "stdout",
     "output_type": "stream",
     "text": [
      "Epoch 1/10\n",
      "143s - loss:  0.4049 - binary_crossentropy:  0.4048 - auc:  0.7366 - val_binary_crossentropy:  0.3931 - val_auc:  0.7387\n"
     ]
    },
    {
     "name": "stderr",
     "output_type": "stream",
     "text": [
      "3907it [02:18, 28.25it/s]\n"
     ]
    },
    {
     "name": "stdout",
     "output_type": "stream",
     "text": [
      "Epoch 2/10\n",
      "147s - loss:  0.0176 - binary_crossentropy:  0.0173 - auc:  0.9972 - val_binary_crossentropy:  0.5336 - val_auc:  0.7127\n"
     ]
    },
    {
     "name": "stderr",
     "output_type": "stream",
     "text": [
      "3907it [02:15, 28.80it/s]\n"
     ]
    },
    {
     "name": "stdout",
     "output_type": "stream",
     "text": [
      "Epoch 3/10\n",
      "144s - loss:  0.0004 - binary_crossentropy:  0.0002 - auc:  1.0000 - val_binary_crossentropy:  0.6610 - val_auc:  0.6827\n"
     ]
    },
    {
     "name": "stderr",
     "output_type": "stream",
     "text": [
      "3907it [02:14, 29.15it/s]\n"
     ]
    },
    {
     "name": "stdout",
     "output_type": "stream",
     "text": [
      "Epoch 4/10\n",
      "142s - loss:  0.0168 - binary_crossentropy:  0.0167 - auc:  0.9990 - val_binary_crossentropy:  0.5317 - val_auc:  0.7108\n"
     ]
    },
    {
     "name": "stderr",
     "output_type": "stream",
     "text": [
      "3907it [02:14, 29.15it/s]\n"
     ]
    },
    {
     "name": "stdout",
     "output_type": "stream",
     "text": [
      "Epoch 5/10\n",
      "142s - loss:  0.1203 - binary_crossentropy:  0.1202 - auc:  0.9746 - val_binary_crossentropy:  0.5566 - val_auc:  0.7006\n"
     ]
    },
    {
     "name": "stderr",
     "output_type": "stream",
     "text": [
      "3907it [02:14, 29.07it/s]\n"
     ]
    },
    {
     "name": "stdout",
     "output_type": "stream",
     "text": [
      "Epoch 6/10\n",
      "142s - loss:  0.0888 - binary_crossentropy:  0.0885 - auc:  0.9899 - val_binary_crossentropy:  0.5655 - val_auc:  0.7275\n"
     ]
    },
    {
     "name": "stderr",
     "output_type": "stream",
     "text": [
      "3907it [02:13, 29.22it/s]\n"
     ]
    },
    {
     "name": "stdout",
     "output_type": "stream",
     "text": [
      "Epoch 7/10\n",
      "142s - loss:  0.0267 - binary_crossentropy:  0.0265 - auc:  0.9987 - val_binary_crossentropy:  0.4057 - val_auc:  0.7160\n"
     ]
    },
    {
     "name": "stderr",
     "output_type": "stream",
     "text": [
      "3907it [02:13, 29.24it/s]\n"
     ]
    },
    {
     "name": "stdout",
     "output_type": "stream",
     "text": [
      "Epoch 8/10\n",
      "142s - loss:  0.0179 - binary_crossentropy:  0.0177 - auc:  0.9994 - val_binary_crossentropy:  0.4272 - val_auc:  0.7094\n"
     ]
    },
    {
     "name": "stderr",
     "output_type": "stream",
     "text": [
      "3907it [02:12, 29.44it/s]\n"
     ]
    },
    {
     "name": "stdout",
     "output_type": "stream",
     "text": [
      "Epoch 9/10\n",
      "141s - loss:  0.0157 - binary_crossentropy:  0.0154 - auc:  0.9996 - val_binary_crossentropy:  0.4086 - val_auc:  0.7174\n"
     ]
    },
    {
     "name": "stderr",
     "output_type": "stream",
     "text": [
      "3907it [02:14, 29.12it/s]\n"
     ]
    },
    {
     "name": "stdout",
     "output_type": "stream",
     "text": [
      "Epoch 10/10\n",
      "143s - loss:  0.0144 - binary_crossentropy:  0.0142 - auc:  0.9996 - val_binary_crossentropy:  0.4153 - val_auc:  0.7275\n",
      "CPU times: user 23min 42s, sys: 8.94 s, total: 23min 50s\n",
      "Wall time: 23min 55s\n"
     ]
    }
   ],
   "source": [
    "%%time\n",
    "history = model.fit(train_model_input, train[target].values, batch_size=1024, epochs=10, verbose=1,\n",
    "                        validation_split=0.2)"
   ]
  },
  {
   "cell_type": "markdown",
   "metadata": {},
   "source": [
    "## 訓練結果解讀\n",
    "- 損失值（loss）和二元交叉熵（binary_crossentropy）：訓練集上的損失值為 0.0144，二元交叉熵為 0.0142。這表示模型在訓練集上能夠很好地擬合（fit）訓練數據，預測結果與實際標籤之間的差異非常小。\n",
    "\n",
    "- AUC 值：訓練集上的 AUC（Area Under the Curve）值為 0.9996，這表示模型在訓練集上具有非常好的分類能力，能夠很好地區分正例和負例。\n",
    "\n",
    "- 驗證集上的損失值和 AUC 值：驗證集上的二元交叉熵為 0.4153，AUC 值為 0.7275。從這些數值來看，模型在驗證集上的表現較訓練集差，損失值較高，AUC 值較低。這可能表示模型在驗證集上的泛化能力較差，無法很好地應對新的數據。\n",
    "\n",
    "## 基於這些結果，可以提出以下觀察和建議：\n",
    "\n",
    "- 可能存在過擬合（Overfitting）：模型在訓練集上的表現非常好，但在驗證集上的表現較差，這可能意味著模型在訓練集上過度擬合，導致對新數據的泛化能力不佳。\n",
    "\n",
    "- 增加驗證集性能：驗證集上的損失值較高且AUC值較低，這可能意味著模型在驗證集上的分類效果較差。可以考慮嘗試調整模型的參數、改進特徵工程或增加驗證數據的多樣性，以提高驗證集的性能。\n"
   ]
  },
  {
   "cell_type": "code",
   "execution_count": 36,
   "metadata": {
    "execution": {
     "iopub.execute_input": "2023-07-18T07:54:16.818102Z",
     "iopub.status.busy": "2023-07-18T07:54:16.817625Z",
     "iopub.status.idle": "2023-07-18T07:54:55.430077Z",
     "shell.execute_reply": "2023-07-18T07:54:55.429144Z",
     "shell.execute_reply.started": "2023-07-18T07:54:16.818062Z"
    }
   },
   "outputs": [],
   "source": [
    "pred_ans = model.predict(test_model_input, 1024)"
   ]
  },
  {
   "cell_type": "code",
   "execution_count": 37,
   "metadata": {
    "execution": {
     "iopub.execute_input": "2023-07-18T07:54:55.433359Z",
     "iopub.status.busy": "2023-07-18T07:54:55.432963Z",
     "iopub.status.idle": "2023-07-18T07:54:55.460700Z",
     "shell.execute_reply": "2023-07-18T07:54:55.459962Z",
     "shell.execute_reply.started": "2023-07-18T07:54:55.433320Z"
    }
   },
   "outputs": [],
   "source": [
    "submission['click'] = pred_ans"
   ]
  },
  {
   "cell_type": "code",
   "execution_count": 38,
   "metadata": {
    "execution": {
     "iopub.execute_input": "2023-07-18T07:54:55.462461Z",
     "iopub.status.busy": "2023-07-18T07:54:55.462059Z",
     "iopub.status.idle": "2023-07-18T07:54:55.474651Z",
     "shell.execute_reply": "2023-07-18T07:54:55.473793Z",
     "shell.execute_reply.started": "2023-07-18T07:54:55.462423Z"
    }
   },
   "outputs": [
    {
     "data": {
      "text/html": [
       "<div>\n",
       "<style scoped>\n",
       "    .dataframe tbody tr th:only-of-type {\n",
       "        vertical-align: middle;\n",
       "    }\n",
       "\n",
       "    .dataframe tbody tr th {\n",
       "        vertical-align: top;\n",
       "    }\n",
       "\n",
       "    .dataframe thead th {\n",
       "        text-align: right;\n",
       "    }\n",
       "</style>\n",
       "<table border=\"1\" class=\"dataframe\">\n",
       "  <thead>\n",
       "    <tr style=\"text-align: right;\">\n",
       "      <th></th>\n",
       "      <th>id</th>\n",
       "      <th>click</th>\n",
       "    </tr>\n",
       "  </thead>\n",
       "  <tbody>\n",
       "    <tr>\n",
       "      <th>0</th>\n",
       "      <td>10000174058809263569</td>\n",
       "      <td>0.000000</td>\n",
       "    </tr>\n",
       "    <tr>\n",
       "      <th>1</th>\n",
       "      <td>10000182526920855428</td>\n",
       "      <td>0.000000</td>\n",
       "    </tr>\n",
       "    <tr>\n",
       "      <th>2</th>\n",
       "      <td>10000554139829213984</td>\n",
       "      <td>0.000000</td>\n",
       "    </tr>\n",
       "    <tr>\n",
       "      <th>3</th>\n",
       "      <td>10001094637809798845</td>\n",
       "      <td>0.000000</td>\n",
       "    </tr>\n",
       "    <tr>\n",
       "      <th>4</th>\n",
       "      <td>10001377041558670745</td>\n",
       "      <td>0.000000</td>\n",
       "    </tr>\n",
       "    <tr>\n",
       "      <th>...</th>\n",
       "      <td>...</td>\n",
       "      <td>...</td>\n",
       "    </tr>\n",
       "    <tr>\n",
       "      <th>4577459</th>\n",
       "      <td>9998166651591969718</td>\n",
       "      <td>0.000000</td>\n",
       "    </tr>\n",
       "    <tr>\n",
       "      <th>4577460</th>\n",
       "      <td>9998249812366450951</td>\n",
       "      <td>0.000000</td>\n",
       "    </tr>\n",
       "    <tr>\n",
       "      <th>4577461</th>\n",
       "      <td>99988023653614546</td>\n",
       "      <td>0.383968</td>\n",
       "    </tr>\n",
       "    <tr>\n",
       "      <th>4577462</th>\n",
       "      <td>9999086574712596585</td>\n",
       "      <td>0.000000</td>\n",
       "    </tr>\n",
       "    <tr>\n",
       "      <th>4577463</th>\n",
       "      <td>99992636456518364</td>\n",
       "      <td>0.000000</td>\n",
       "    </tr>\n",
       "  </tbody>\n",
       "</table>\n",
       "<p>4577464 rows × 2 columns</p>\n",
       "</div>"
      ],
      "text/plain": [
       "                           id     click\n",
       "0        10000174058809263569  0.000000\n",
       "1        10000182526920855428  0.000000\n",
       "2        10000554139829213984  0.000000\n",
       "3        10001094637809798845  0.000000\n",
       "4        10001377041558670745  0.000000\n",
       "...                       ...       ...\n",
       "4577459   9998166651591969718  0.000000\n",
       "4577460   9998249812366450951  0.000000\n",
       "4577461     99988023653614546  0.383968\n",
       "4577462   9999086574712596585  0.000000\n",
       "4577463     99992636456518364  0.000000\n",
       "\n",
       "[4577464 rows x 2 columns]"
      ]
     },
     "execution_count": 38,
     "metadata": {},
     "output_type": "execute_result"
    }
   ],
   "source": [
    "submission"
   ]
  }
 ],
 "metadata": {
  "kernelspec": {
   "display_name": "Python 3",
   "language": "python",
   "name": "python3"
  },
  "language_info": {
   "codemirror_mode": {
    "name": "ipython",
    "version": 3
   },
   "file_extension": ".py",
   "mimetype": "text/x-python",
   "name": "python",
   "nbconvert_exporter": "python",
   "pygments_lexer": "ipython3",
   "version": "3.8.3"
  }
 },
 "nbformat": 4,
 "nbformat_minor": 4
}
